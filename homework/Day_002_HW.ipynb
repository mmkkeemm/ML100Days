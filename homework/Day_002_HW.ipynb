{
 "cells": [
  {
   "cell_type": "markdown",
   "metadata": {},
   "source": [
    "## [作業目標]\n",
    "了解機器學習適合應用的領域與範疇。"
   ]
  },
  {
   "cell_type": "markdown",
   "metadata": {},
   "source": [
    "## [作業重點]\n",
    "透過瞭解機器學習的運作方式，找出非常適用機器學習應用的領域及其原因"
   ]
  },
  {
   "cell_type": "markdown",
   "metadata": {},
   "source": [
    "## 作業\n",
    "請找出一個你認為機器學習可以發光發熱的領域並闡述原因? "
   ]
  },
  {
   "cell_type": "markdown",
   "metadata": {},
   "source": [
    "講義中提到針對重複性高、目標明確的問題，機器學習都能發揮效果。如果機器學習要能夠發光發熱，這個問題也必須要是如果以人腦來處理會變得相對複雜的問題。因此我認為許多希望能將數值或數學概念引入的科學都能夠藉由機器學習來進行預測，舉例而言，生物的分類是一個很複雜的過程，而且許多生物究竟該如何分類這幾年都仍有許多的討論，或許能夠藉由機器學習的分群概念、藉由生物的特徵、生化分子的特徵等作為參數提供分類學門一些新的刺激跟想法。"
   ]
  }
 ],
 "metadata": {
  "kernelspec": {
   "display_name": "Python 3",
   "language": "python",
   "name": "python3"
  },
  "language_info": {
   "codemirror_mode": {
    "name": "ipython",
    "version": 3
   },
   "file_extension": ".py",
   "mimetype": "text/x-python",
   "name": "python",
   "nbconvert_exporter": "python",
   "pygments_lexer": "ipython3",
   "version": "3.7.6"
  }
 },
 "nbformat": 4,
 "nbformat_minor": 2
}
